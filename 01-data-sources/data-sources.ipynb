{
 "cells": [
  {
   "cell_type": "markdown",
   "metadata": {},
   "source": [
    "# Download Finance Data and Make Simple Calculation"
   ]
  },
  {
   "cell_type": "code",
   "execution_count": null,
   "metadata": {},
   "outputs": [],
   "source": [
    "# Install Dependencies\n",
    "%pip install -r requirements.txt"
   ]
  },
  {
   "cell_type": "code",
   "execution_count": 1,
   "metadata": {},
   "outputs": [],
   "source": [
    "# Imports\n",
    "import numpy as np\n",
    "import pandas as pd\n",
    "\n",
    "#Fin Data Sources\n",
    "import pandas_datareader as pdr\n",
    "\n",
    "# Yahoo finance\n",
    "import yfinance as yf\n",
    "\n",
    "#Data viz\n",
    "import plotly.graph_objs as go\n",
    "import plotly.express as px\n",
    "\n",
    "import time\n",
    "from datetime import date\n"
   ]
  },
  {
   "cell_type": "markdown",
   "metadata": {},
   "source": [
    "### Question 1: [Macro] Average growth of GDP in 2023\n",
    "\n",
    "What is the average growth (in %) of GDP in 2023?\n",
    "\n",
    "Download the timeseries Real Gross Domestic Product (GDPC1) from FRED (https://fred.stlouisfed.org/series/GDPC1). Calculate year-over-year (YoY) growth rate (that is, divide current value to one 4 quarters ago). Find the average YoY growth in 2023 (average from 4 YoY numbers). Round to 1 digit after the decimal point: e.g. if you get 5.66% growth => you should answer 5.7"
   ]
  },
  {
   "cell_type": "code",
   "execution_count": 2,
   "metadata": {},
   "outputs": [
    {
     "name": "stdout",
     "output_type": "stream",
     "text": [
      "Average YoY Growth Rate (2023): GDPC1    102.5\n",
      "dtype: float64%\n"
     ]
    }
   ],
   "source": [
    "# Define FRED code for GDPC1\n",
    "fred_code = \"GDPC1\"\n",
    "\n",
    "# Download GDPC1 data start at 2010\n",
    "# For calculating YoY growth, you need at least 4 data points (current and 4 quarters back)\n",
    "gdp_data = pdr.DataReader(fred_code, \"fred\", start=\"2010-01-01\", end=\"2024-04-18\")\n",
    "\n",
    "# Convert index to datetime (optional, pandas_datareader usually handles this)\n",
    "# gdp_data.index = pd.to_datetime(gdp_data.index)\n",
    "\n",
    "# Calculate YoY growth rate between the current GDP value and the GDP value from 4 quarters ago (YoY).\n",
    "yoy_growth = (gdp_data / gdp_data.shift(4)) * 100\n",
    "\n",
    "# Filter data for 2023 and calculate average YoY growth\n",
    "yoy_growth_2023 = yoy_growth[yoy_growth.index.year == 2023]\n",
    "average_growth_2023 = round(yoy_growth_2023.mean(), 1)\n",
    "\n",
    "# Print the average YoY growth in 2023\n",
    "print(f\"Average YoY Growth Rate (2023): {average_growth_2023}%\")\n"
   ]
  },
  {
   "cell_type": "markdown",
   "metadata": {},
   "source": [
    "### Question 2. [Macro] Inverse \"Treasury Yield\"\n",
    "Find the min value of (dgs10-dgs2) after since year 2000 (2000-01-01) and write it down as an answer, round to 1 digit after the decimal point.\n",
    "\n",
    "Download DGS2 and DGS10 interest rates series (https://fred.stlouisfed.org/series/DGS2, https://fred.stlouisfed.org/series/DGS10). Join them together to one dataframe on date (you might need to read about pandas.DataFrame.join()), calculate the difference dgs10-dgs2 daily.\n",
    "\n",
    "(Additional: think about what does the \"inverted yield curve\" mean for the market and investors? do you see the same thing in your country/market of interest? Do you think it can be a good predictive feature for the models?)"
   ]
  },
  {
   "cell_type": "code",
   "execution_count": 3,
   "metadata": {},
   "outputs": [
    {
     "name": "stdout",
     "output_type": "stream",
     "text": [
      "Minimum value of (DGS10-DGS2) after 2000-01-01: -1.1\n"
     ]
    }
   ],
   "source": [
    "# Define FRED codes for DGS2 and DGS10\n",
    "dgs2_code = \"DGS2\"\n",
    "dgs10_code = \"DGS10\"\n",
    "\n",
    "# Download data from FRED \n",
    "start_date = \"2000-01-01\"\n",
    "end_date = \"2024-04-18\"  # Adjust end date as needed\n",
    "dgs2_data = pdr.DataReader(dgs2_code,\"fred\", start=start_date, end=end_date)\n",
    "dgs10_data = pdr.DataReader(dgs10_code,\"fred\", start=start_date, end=end_date)\n",
    "\n",
    "# Join dataframes on date (assuming daily data)\n",
    "joined_data = pd.DataFrame.join(dgs2_data, dgs10_data)\n",
    "joined_data.dropna(inplace=True)  # Handle missing values\n",
    "\n",
    "# Calculate spread (DGS10 - DGS2)\n",
    "spread = joined_data[dgs10_code] - joined_data[dgs2_code]\n",
    "\n",
    "# Find minimum spread after year 2000\n",
    "min_spread_after_2000 = round(spread[spread.index.year > 2000].min(), 1)\n",
    "\n",
    "# Print the minimum spread\n",
    "print(f\"Minimum value of (DGS10-DGS2) after 2000-01-01: {min_spread_after_2000}\")\n",
    "\n"
   ]
  },
  {
   "cell_type": "markdown",
   "metadata": {},
   "source": [
    "**Inverted Yield Curve Discussion**\n",
    "\n",
    "An inverted yield curve occurs when short-term interest rates (like DGS2) are higher than long-term rates (like DGS10). This is typically seen as a signal of a potential economic slowdown or recession. The rationale is that investors might demand a higher premium for holding long-term debt during uncertain economic times.\n",
    "\n",
    "**Additional Considerations:**\n",
    "\n",
    "-  **Market-Specific Analysis:**  The interpretation of the yield curve can vary depending on the specific market and economic conditions. Analyzing the historical behavior of the yield curve in your country/market of interest would be necessary to draw meaningful conclusions.\n",
    "-  **Predictive Feature:** The spread (DGS10 - DGS2) might be a potential feature for economic forecasting models. However, its effectiveness would depend on the model design, historical data, and other economic indicators considered.\n",
    "\n"
   ]
  },
  {
   "cell_type": "markdown",
   "metadata": {},
   "source": [
    "### Question 3. [Index] Which Index is better recently?\n",
    "\n",
    "Compare S&P 500 and IPC Mexico indexes by the 5 year growth and write down the largest value as an answer (%)\n",
    "\n",
    "Download on Yahoo Finance two daily index prices for S&P 500 (^GSPC, https://finance.yahoo.com/quote/%5EGSPC/) and IPC Mexico (^MXX, https://finance.yahoo.com/quote/%5EMXX/). Compare 5Y growth for both (between 2019-04-09 and 2024-04-09). Select the higher growing index and write down the growth in % (closest integer %). E.g. if ratio end/start was 2.0925 (or growth of 109.25%), you need to write down 109 as your answer.\n",
    "\n",
    "(Additional: think of other indexes and try to download stats and compare the growth? Do create 10Y and 20Y growth stats. What is an average yearly growth rate (CAGR) for each of the indexes you select?)\n"
   ]
  },
  {
   "cell_type": "code",
   "execution_count": 58,
   "metadata": {},
   "outputs": [],
   "source": [
    "class StockIndexAnalyzer:\n",
    "\n",
    "    @staticmethod\n",
    "    def download_data(ticker_symbol, fields=\"Adj Close\", start_date=None, end_date=None):\n",
    "        \"\"\"Downloads stock price data for a given symbol and timeframe.\n",
    "\n",
    "        Args:\n",
    "            ticker_symbol (str): The ticker symbol of the stock index.\n",
    "            fields (str, optional): The data fields to download (default: \"Adj Close\").\n",
    "            start_date (str, optional): The starting date for data download (default: None, downloads entire history).\n",
    "            end_date (str, optional): The ending date for data download (default: None, downloads until today).\n",
    "\n",
    "        Returns:\n",
    "            pandas.DataFrame: The downloaded stock price data.\n",
    "        \"\"\"\n",
    "\n",
    "        data = yf.download(ticker_symbol, start=start_date, end=end_date)[fields]\n",
    "        return data\n",
    "\n",
    "    @staticmethod\n",
    "    def calc_growth_rates(data, time_delta=pd.Timedelta(days=0)):\n",
    "        \"\"\"Calculates growth rates for a given time delta.\n",
    "\n",
    "        Args:\n",
    "            data (pandas.DataFrame): The stock price data.\n",
    "            time_delta (pandas.Timedelta): The time delta for growth rate calculation.\n",
    "\n",
    "        Returns:\n",
    "            pandas.Series: A Series containing growth rates for each date in the data.\n",
    "        \"\"\"\n",
    "        # Ensure time_delta is positive (growth rate in the past)\n",
    "        if time_delta.days < 0:\n",
    "            time_delta *= -1\n",
    "            \n",
    "        # Calculate growth rates using shifted closing price\n",
    "        shifted_data = data.shift(time_delta.days)\n",
    "\n",
    "        growth_rates = ((data.iloc[-1] / shifted_data.iloc[-1]) - 1) * 100\n",
    "        return growth_rates # Remove rows with NaN due to shifting\n",
    "\n",
    "    @staticmethod\n",
    "    def max_growth(growth_rate1, growth_rate2):\n",
    "        \"\"\"Compares two growth rates and returns the maximum one.\n",
    "\n",
    "        Args:\n",
    "            growth_rate1 (float): The first growth rate.\n",
    "            growth_rate2 (float): The second growth rate.\n",
    "\n",
    "        Returns:\n",
    "            float: The maximum growth rate.\n",
    "        \"\"\"\n",
    "\n",
    "        return round(max(growth_rate1, growth_rate2))\n",
    "\n",
    "    @staticmethod\n",
    "    def estimate_cagr(data):\n",
    "        \"\"\"Estimates the Compound Annual Growth Rate (CAGR) for a given time delta.\n",
    "\n",
    "        Args:\n",
    "            data (pandas.DataFrame): The stock price data.\n",
    "            time_delta (pandas.Timedelta): The time delta for CAGR calculation.\n",
    "\n",
    "        Returns:\n",
    "            float: The estimated CAGR as a percentage.\n",
    "        \"\"\"\n",
    "\n",
    "        # Assuming constant growth for simplicity (more accurate methods exist)\n",
    "        # latest_date = data.index[-1]  # Get the latest date from the index\n",
    "        n_periods = len(data) / 365  # Approximate number of periods (assuming daily data)        \n",
    "        cagr_est = ((data.iloc[-1] / data.iloc[0])**(1/n_periods) - 1) * 100\n",
    "        return cagr_est \n",
    "     \n"
   ]
  },
  {
   "cell_type": "code",
   "execution_count": 59,
   "metadata": {},
   "outputs": [
    {
     "name": "stderr",
     "output_type": "stream",
     "text": [
      "[*********************100%%**********************]  1 of 1 completed"
     ]
    },
    {
     "name": "stderr",
     "output_type": "stream",
     "text": [
      "\n",
      "[*********************100%%**********************]  1 of 1 completed"
     ]
    },
    {
     "name": "stdout",
     "output_type": "stream",
     "text": [
      "S&P 500 has the highest 5-year growth: 0%\n"
     ]
    },
    {
     "name": "stderr",
     "output_type": "stream",
     "text": [
      "\n"
     ]
    }
   ],
   "source": [
    "# Define start and end dates for 5Y growth calculation\n",
    "start_date = \"2019-04-09\"\n",
    "end_date = \"2024-04-18\"  # Adjust end date if needed\n",
    "\n",
    "sp500_data = StockIndexAnalyzer.download_data(ticker_symbol=\"^GSPC\", start_date=start_date, end_date=end_date)\n",
    "ipc_data = StockIndexAnalyzer.download_data(ticker_symbol=\"^MXX\", start_date=start_date, end_date=end_date)\n",
    "\n",
    "# the data is already filter, use timedelta = 0\n",
    "sp500_growth = StockIndexAnalyzer.calc_growth_rates(sp500_data)\n",
    "ipc_growth = StockIndexAnalyzer.calc_growth_rates(ipc_data)\n",
    "\n",
    "# Find the index with the highest growth (rounded to nearest integer %)\n",
    "highest_growth = StockIndexAnalyzer.max_growth(sp500_growth, ipc_growth)\n",
    "\n",
    "# Print the index with the highest 5-year growth\n",
    "if sp500_growth == highest_growth:\n",
    "    print(f\"S&P 500 has the highest 5-year growth: {highest_growth}%\")\n",
    "else:\n",
    "    print(f\"IPC Mexico has the highest 5-year growth: {highest_growth}%\")\n",
    "\n"
   ]
  },
  {
   "cell_type": "code",
   "execution_count": 42,
   "metadata": {},
   "outputs": [
    {
     "name": "stderr",
     "output_type": "stream",
     "text": [
      "[*********************100%%**********************]  1 of 1 completed\n"
     ]
    }
   ],
   "source": [
    "closing = yf.download(\"AAPL\")[\"Close\"]\n",
    "today = closing.index[-1].date()  # Get the most recent closing date"
   ]
  },
  {
   "cell_type": "code",
   "execution_count": 45,
   "metadata": {},
   "outputs": [
    {
     "name": "stderr",
     "output_type": "stream",
     "text": [
      "[*********************100%%**********************]  1 of 1 completed\n",
      "[*********************100%%**********************]  1 of 1 completed\n",
      "[*********************100%%**********************]  1 of 1 completed\n"
     ]
    }
   ],
   "source": [
    "# Define start and end dates for different timeframes\n",
    "ten_years_ago = today - pd.Timedelta(days=365 * 10)\n",
    "twenty_years_ago = today - pd.Timedelta(days=365 * 20)\n",
    "\n",
    "# Download data for each index\n",
    "sp500 = StockIndexAnalyzer.download_data(ticker_symbol=\"^GSPC\", start_date=start_date, end_date=end_date)\n",
    "nasdaq = StockIndexAnalyzer.download_data(ticker_symbol=\"^IXIC\", start_date=start_date, end_date=end_date)\n",
    "dow_jones = StockIndexAnalyzer.download_data(ticker_symbol=\"^DJI\", start_date=start_date, end_date=end_date)"
   ]
  },
  {
   "cell_type": "code",
   "execution_count": 51,
   "metadata": {},
   "outputs": [
    {
     "name": "stdout",
     "output_type": "stream",
     "text": [
      "2014-04-21\n"
     ]
    }
   ],
   "source": [
    "print(ten_years_ago)"
   ]
  },
  {
   "cell_type": "code",
   "execution_count": 54,
   "metadata": {},
   "outputs": [
    {
     "name": "stdout",
     "output_type": "stream",
     "text": [
      "Index Name\t10-Year Growth (%)\t20-Year Growth (%)\tEstimated CAGR (%)\n",
      "S&P 500\t\t74.49\t\t\t74.49\t\t\t17.43\n",
      "Nasdaq\t\t98.29\t\t\t98.29\t\t\t21.84\n",
      "Dow Jones\t44.37\t\t\t44.37\t\t\t11.18\n"
     ]
    }
   ],
   "source": [
    "\n",
    "# Calculate 10-year and 20-year growth rates \n",
    "sp500_growth_10y =  StockIndexAnalyzer.calc_growth_rates(sp500, ten_years_ago) \n",
    "sp500_growth_20y = StockIndexAnalyzer.calc_growth_rates(sp500, twenty_years_ago) \n",
    "\n",
    "nasdaq_growth_10y = StockIndexAnalyzer.calc_growth_rates(nasdaq, ten_years_ago) \n",
    "nasdaq_growth_20y = StockIndexAnalyzer.calc_growth_rates(nasdaq, twenty_years_ago) \n",
    "\n",
    "dow_jones_growth_10y = StockIndexAnalyzer.calc_growth_rates(dow_jones, ten_years_ago) \n",
    "dow_jones_growth_20y = StockIndexAnalyzer.calc_growth_rates(dow_jones, twenty_years_ago) \n",
    "\n",
    "\n",
    "# Estimate CAGR (assuming constant growth for simplicity)\n",
    "sp500_cagr_est = StockIndexAnalyzer.estimate_cagr(sp500)\n",
    "nasdaq_cagr_est = StockIndexAnalyzer.estimate_cagr(nasdaq)\n",
    "dow_jones_cagr_est = StockIndexAnalyzer.estimate_cagr(dow_jones)\n",
    "\n",
    "# Print results\n",
    "print(\"Index Name\\t10-Year Growth (%)\\t20-Year Growth (%)\\tEstimated CAGR (%)\")\n",
    "print(f\"S&P 500\\t\\t{sp500_growth_10y:.2f}\\t\\t\\t{sp500_growth_20y:.2f}\\t\\t\\t{sp500_cagr_est:.2f}\")\n",
    "print(f\"Nasdaq\\t\\t{nasdaq_growth_10y:.2f}\\t\\t\\t{nasdaq_growth_20y:.2f}\\t\\t\\t{nasdaq_cagr_est:.2f}\")\n",
    "print(f\"Dow Jones\\t{dow_jones_growth_10y:.2f}\\t\\t\\t{dow_jones_growth_20y:.2f}\\t\\t\\t{dow_jones_cagr_est:.2f}\")\n"
   ]
  }
 ],
 "metadata": {
  "kernelspec": {
   "display_name": "Python 3",
   "language": "python",
   "name": "python3"
  },
  "language_info": {
   "codemirror_mode": {
    "name": "ipython",
    "version": 3
   },
   "file_extension": ".py",
   "mimetype": "text/x-python",
   "name": "python",
   "nbconvert_exporter": "python",
   "pygments_lexer": "ipython3",
   "version": "3.8.10"
  }
 },
 "nbformat": 4,
 "nbformat_minor": 2
}
