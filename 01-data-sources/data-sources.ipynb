{
 "cells": [
  {
   "cell_type": "markdown",
   "metadata": {},
   "source": [
    "# Download Finance Data and Make Simple Calculation"
   ]
  },
  {
   "cell_type": "code",
   "execution_count": null,
   "metadata": {},
   "outputs": [],
   "source": [
    "# Install Dependencies\n",
    "%pip install -r requirements.txt"
   ]
  },
  {
   "cell_type": "code",
   "execution_count": 26,
   "metadata": {},
   "outputs": [],
   "source": [
    "# Imports\n",
    "import numpy as np\n",
    "import pandas as pd\n",
    "\n",
    "import time\n",
    "from datetime import date\n",
    "\n",
    "#Data visualization\n",
    "import plotly.graph_objs as go\n",
    "import plotly.express as px\n",
    "import matplotlib.pyplot as plt\n",
    "\n",
    "#Fin Data Sources\n",
    "import pandas_datareader as pdr\n",
    "\n",
    "# Yahoo finance\n",
    "import yfinance as yf\n"
   ]
  },
  {
   "cell_type": "markdown",
   "metadata": {},
   "source": [
    "### Question 1: [Macro] Average growth of GDP in 2023\n",
    "\n",
    "What is the average growth (in %) of GDP in 2023?\n",
    "\n",
    "Download the timeseries Real Gross Domestic Product (GDPC1) from FRED (https://fred.stlouisfed.org/series/GDPC1). Calculate year-over-year (YoY) growth rate (that is, divide current value to one 4 quarters ago). Find the average YoY growth in 2023 (average from 4 YoY numbers). Round to 1 digit after the decimal point: e.g. if you get 5.66% growth => you should answer 5.7"
   ]
  },
  {
   "cell_type": "code",
   "execution_count": 4,
   "metadata": {},
   "outputs": [
    {
     "name": "stdout",
     "output_type": "stream",
     "text": [
      "Average YoY Growth Rate (2023): GDPC1    2.5\n",
      "dtype: float64%\n"
     ]
    }
   ],
   "source": [
    "# Define FRED code for GDPC1\n",
    "fred_code = \"GDPC1\"\n",
    "\n",
    "# Download GDPC1 data start at 2010\n",
    "# For calculating YoY growth, you need at least 4 data points (current and 4 quarters back)\n",
    "gdp_data = pdr.DataReader(fred_code, \"fred\", start=\"2010-01-01\", end=\"2024-04-18\")\n",
    "\n",
    "# Convert index to datetime (optional, pandas_datareader usually handles this)\n",
    "# gdp_data.index = pd.to_datetime(gdp_data.index)\n",
    "\n",
    "# Calculate YoY growth rate between the current GDP value and the GDP value from 4 quarters ago (YoY).\n",
    "yoy_growth = (gdp_data / gdp_data.shift(4) - 1) * 100\n",
    "\n",
    "# Filter data for 2023 and calculate average YoY growth\n",
    "yoy_growth_2023 = yoy_growth[yoy_growth.index.year == 2023]\n",
    "average_growth_2023 = round(yoy_growth_2023.mean(), 1)\n",
    "\n",
    "# Print the average YoY growth in 2023\n",
    "print(f\"Average YoY Growth Rate (2023): {average_growth_2023}%\")\n"
   ]
  },
  {
   "cell_type": "markdown",
   "metadata": {},
   "source": [
    "### Question 2. [Macro] Inverse \"Treasury Yield\"\n",
    "Find the min value of (dgs10-dgs2) after since year 2000 (2000-01-01) and write it down as an answer, round to 1 digit after the decimal point.\n",
    "\n",
    "Download DGS2 and DGS10 interest rates series (https://fred.stlouisfed.org/series/DGS2, https://fred.stlouisfed.org/series/DGS10). Join them together to one dataframe on date (you might need to read about pandas.DataFrame.join()), calculate the difference dgs10-dgs2 daily.\n",
    "\n",
    "(Additional: think about what does the \"inverted yield curve\" mean for the market and investors? do you see the same thing in your country/market of interest? Do you think it can be a good predictive feature for the models?)"
   ]
  },
  {
   "cell_type": "code",
   "execution_count": 5,
   "metadata": {},
   "outputs": [
    {
     "name": "stdout",
     "output_type": "stream",
     "text": [
      "Minimum value of (DGS10-DGS2) after 2000-01-01: -1.1\n"
     ]
    }
   ],
   "source": [
    "# Define FRED codes for DGS2 and DGS10\n",
    "dgs2_code = \"DGS2\"\n",
    "dgs10_code = \"DGS10\"\n",
    "\n",
    "# Download data from FRED \n",
    "start_date = \"2000-01-01\"\n",
    "end_date = \"2024-04-18\"  # Adjust end date as needed\n",
    "dgs2_data = pdr.DataReader(dgs2_code,\"fred\", start=start_date, end=end_date)\n",
    "dgs10_data = pdr.DataReader(dgs10_code,\"fred\", start=start_date, end=end_date)\n",
    "\n",
    "# Join dataframes on date (assuming daily data)\n",
    "joined_data = pd.DataFrame.join(dgs2_data, dgs10_data)\n",
    "joined_data.dropna(inplace=True)  # Handle missing values\n",
    "\n",
    "# Calculate spread (DGS10 - DGS2)\n",
    "spread = joined_data[dgs10_code] - joined_data[dgs2_code]\n",
    "\n",
    "# Find minimum spread after year 2000\n",
    "min_spread_after_2000 = round(spread[spread.index.year > 2000].min(), 1)\n",
    "\n",
    "# Print the minimum spread\n",
    "print(f\"Minimum value of (DGS10-DGS2) after 2000-01-01: {min_spread_after_2000}\")\n",
    "\n"
   ]
  },
  {
   "cell_type": "markdown",
   "metadata": {},
   "source": [
    "**Inverted Yield Curve Discussion**\n",
    "\n",
    "An inverted yield curve occurs when short-term interest rates (like DGS2) are higher than long-term rates (like DGS10). This is typically seen as a signal of a potential economic slowdown or recession. The rationale is that investors might demand a higher premium for holding long-term debt during uncertain economic times.\n",
    "\n",
    "**Additional Considerations:**\n",
    "\n",
    "-  **Market-Specific Analysis:**  The interpretation of the yield curve can vary depending on the specific market and economic conditions. Analyzing the historical behavior of the yield curve in your country/market of interest would be necessary to draw meaningful conclusions.\n",
    "-  **Predictive Feature:** The spread (DGS10 - DGS2) might be a potential feature for economic forecasting models. However, its effectiveness would depend on the model design, historical data, and other economic indicators considered.\n",
    "\n"
   ]
  },
  {
   "cell_type": "markdown",
   "metadata": {},
   "source": [
    "### Question 3. [Index] Which Index is better recently?\n",
    "\n",
    "Compare S&P 500 and IPC Mexico indexes by the 5 year growth and write down the largest value as an answer (%)\n",
    "\n",
    "Download on Yahoo Finance two daily index prices for S&P 500 (^GSPC, https://finance.yahoo.com/quote/%5EGSPC/) and IPC Mexico (^MXX, https://finance.yahoo.com/quote/%5EMXX/). Compare 5Y growth for both (between 2019-04-09 and 2024-04-09). Select the higher growing index and write down the growth in % (closest integer %). E.g. if ratio end/start was 2.0925 (or growth of 109.25%), you need to write down 109 as your answer.\n",
    "\n",
    "(Additional: think of other indexes and try to download stats and compare the growth? Do create 10Y and 20Y growth stats. What is an average yearly growth rate (CAGR) for each of the indexes you select?)\n"
   ]
  },
  {
   "cell_type": "code",
   "execution_count": 76,
   "metadata": {},
   "outputs": [],
   "source": [
    "class StockIndexAnalyzer:\n",
    "\n",
    "    @staticmethod\n",
    "    def download_data(ticker_symbol, fields=\"Adj Close\", start_date=None, end_date=None, interval=None):\n",
    "        \"\"\"Downloads stock price data for a given symbol and timeframe.\n",
    "\n",
    "        Args:\n",
    "            ticker_symbol (str): The ticker symbol of the stock index.\n",
    "            fields (str, optional): The data fields to download (default: \"Adj Close\").\n",
    "            start_date (str, optional): The starting date for data download (default: None, downloads entire history).\n",
    "            end_date (str, optional): The ending date for data download (default: None, downloads until today).\n",
    "\n",
    "        Returns:\n",
    "            pandas.DataFrame: The downloaded stock price data.\n",
    "        \"\"\"\n",
    "\n",
    "        data = yf.download(ticker_symbol, start=start_date, end=end_date, interval=interval)[fields]\n",
    "        return data\n",
    "\n",
    "    @staticmethod\n",
    "    def calc_growth_rates(data):\n",
    "        \"\"\"Calculates growth rates for a given time delta.\n",
    "\n",
    "        Args:\n",
    "            data (pandas.DataFrame): The stock price data.\n",
    "            time_delta (pandas.Timedelta): The time delta for growth rate calculation.\n",
    "\n",
    "        Returns:\n",
    "            pandas.Series: A Series containing growth rates for each date in the data.\n",
    "        \"\"\"        \n",
    "        growth_rates = ((data.iloc[-1] / data.iloc[0]) - 1) * 100\n",
    "        return growth_rates # Remove rows with NaN due to shifting\n",
    "\n",
    "    @staticmethod\n",
    "    def max_growth(growth_rate1, growth_rate2):\n",
    "        \"\"\"Compares two growth rates and returns the maximum one.\n",
    "\n",
    "        Args:\n",
    "            growth_rate1 (float): The first growth rate.\n",
    "            growth_rate2 (float): The second growth rate.\n",
    "\n",
    "        Returns:\n",
    "            float: The maximum growth rate.\n",
    "        \"\"\"\n",
    "\n",
    "        return round(max(growth_rate1, growth_rate2))\n",
    "\n",
    "    @staticmethod\n",
    "    def estimate_cagr(data):\n",
    "        \"\"\"Estimates the Compound Annual Growth Rate (CAGR) for a given time delta.\n",
    "\n",
    "        Args:\n",
    "            data (pandas.DataFrame): The stock price data.\n",
    "            time_delta (pandas.Timedelta): The time delta for CAGR calculation.\n",
    "\n",
    "        Returns:\n",
    "            float: The estimated CAGR as a percentage.\n",
    "        \"\"\"\n",
    "\n",
    "        # Assuming constant growth for simplicity (more accurate methods exist)\n",
    "        # latest_date = data.index[-1]  # Get the latest date from the index\n",
    "        n_periods = len(data) / 365  # Approximate number of periods (assuming daily data)        \n",
    "        cagr_est = ((data.iloc[-1] / data.iloc[0])**(1/n_periods) - 1) * 100\n",
    "        return cagr_est \n",
    "     \n",
    "    @staticmethod \n",
    "    def calculate_range_ratio(data):\n",
    "        \"\"\"Calculates the 52-week range ratio for a given stock's data.\n",
    "\n",
    "        Args:\n",
    "            data (pandas.DataFrame): The OHLCV data for the stock.\n",
    "\n",
    "        Returns:\n",
    "            float: The 52-week range ratio rounded to two decimal places.\n",
    "        \"\"\"\n",
    "\n",
    "        if data.empty:\n",
    "            return None  # Handle case where data download fails\n",
    "        \n",
    "        # Calculate maximum and minimum Adj. Close prices\n",
    "        max_price = data.max()\n",
    "        min_price = data.min()\n",
    "\n",
    "        # Calculate and round the range ratio\n",
    "        if max_price > 0:  # Avoid division by zero\n",
    "            range_ratio = (max_price - min_price) / max_price\n",
    "        else:\n",
    "            range_ratio = 0\n",
    "\n",
    "        return round(range_ratio, 2)\n",
    "    \n",
    "    @staticmethod\n",
    "    def calculate_dividend_yield(ticker, start, end):\n",
    "        \"\"\"Calculates the dividend yield for a given stock in 2023.\n",
    "\n",
    "        Args:\n",
    "            ticker (str): The stock ticker symbol.\n",
    "\n",
    "        Returns:\n",
    "            float: The dividend yield in percentage (rounded to one decimal place) or None if data is unavailable.\n",
    "        \"\"\"\n",
    "\n",
    "        try:\n",
    "            # Download stock data (including dividends)\n",
    "            data = yf.download(ticker, start, end, actions=True)\n",
    "\n",
    "            # Extract dividends for 2023\n",
    "            dividends_2023 = data[\"Dividends\"].sum()\n",
    "\n",
    "            # Get the closing price on the last trading day of 2023 (assuming 'Adj Close' exists)\n",
    "            closing_price = data[\"Adj Close\"].iloc[-1]\n",
    "\n",
    "            # Calculate and round the dividend yield (avoid division by zero)\n",
    "            if closing_price > 0:\n",
    "                dividend_yield = (dividends_2023 / closing_price) * 100\n",
    "                return round(dividend_yield, 1)\n",
    "            else:\n",
    "                return None\n",
    "\n",
    "        except (yf.DownloadError, KeyError):\n",
    "            # Handle potential download errors or missing data\n",
    "            return None\n",
    "    \n",
    "    @staticmethod\n",
    "    def get_financial_data(ticker):\n",
    "        \"\"\"Gets the financial data\n",
    "\n",
    "        Args:\n",
    "            ticker (str): The stock ticker symbol.\n",
    "\n",
    "        Returns:\n",
    "            pandas.Series: with finacial rows and date columns for the last few years \n",
    "            Shape (43,4)\n",
    "            \t                        2024-01-31\t        2023-01-31\t    2022-01-31\t    2021-01-31\n",
    "            Tax Effect Of Unusual Items\t    0.0\t           -284130000.0\t        0.0\t            0.0\n",
    "            Tax Rate For Calcs\t            0.12\t        0.21\t            0.019\t        0.017\n",
    "            Normalized EBITDA\t            35583000000.0\t7340000000.0\t11351000000.0\t5691000000.0\n",
    "                        \n",
    "            data.financials.get('2023-01-31')[\"Basic EPS\"]\n",
    "            data.financials.loc[\"Basic EPS\",\"2023-01-31\"]\n",
    "\n",
    "        \"\"\"\n",
    "\n",
    "        try:\n",
    "            # Download historical data (including financials)\n",
    "            data =  yf.Ticker(ticker)\n",
    "            return data.financials\n",
    "            \n",
    "        except (yf.DownloadError, KeyError):\n",
    "            # Handle potential download errors or missing data\n",
    "            return None\n"
   ]
  },
  {
   "cell_type": "code",
   "execution_count": 11,
   "metadata": {},
   "outputs": [
    {
     "name": "stderr",
     "output_type": "stream",
     "text": [
      "[*********************100%%**********************]  1 of 1 completed\n",
      "[*********************100%%**********************]  1 of 1 completed"
     ]
    },
    {
     "name": "stdout",
     "output_type": "stream",
     "text": [
      " sp500: 80.75151917783086 ipc: 28.43377484045295\n",
      "Highest 5-year growth: 81%\n"
     ]
    },
    {
     "name": "stderr",
     "output_type": "stream",
     "text": [
      "\n"
     ]
    }
   ],
   "source": [
    "# Define start and end dates for 5Y growth calculation\n",
    "start_date = \"2019-04-09\"\n",
    "end_date = \"2024-04-09\"  # Adjust end date if needed\n",
    "\n",
    "sp500_data = StockIndexAnalyzer.download_data(ticker_symbol=\"^GSPC\", start_date=start_date, end_date=end_date)\n",
    "ipc_data = StockIndexAnalyzer.download_data(ticker_symbol=\"^MXX\", start_date=start_date, end_date=end_date)\n",
    "\n",
    "# the data is already filter, use timedelta = 0\n",
    "sp500_growth = StockIndexAnalyzer.calc_growth_rates(sp500_data)\n",
    "ipc_growth = StockIndexAnalyzer.calc_growth_rates(ipc_data)\n",
    "\n",
    "print(f' sp500: {sp500_growth} ipc: {ipc_growth}')\n",
    "# Find the index with the highest growth (rounded to nearest integer %)\n",
    "highest_growth = StockIndexAnalyzer.max_growth(sp500_growth, ipc_growth)\n",
    "\n",
    "# Print the index with the highest 5-year growth\n",
    "print(f\"Highest 5-year growth: {highest_growth}%\")\n",
    "\n"
   ]
  },
  {
   "cell_type": "code",
   "execution_count": 15,
   "metadata": {},
   "outputs": [
    {
     "name": "stderr",
     "output_type": "stream",
     "text": [
      "[*********************100%%**********************]  1 of 1 completed"
     ]
    },
    {
     "name": "stdout",
     "output_type": "stream",
     "text": [
      "2024-04-22 2014-04-25 2004-04-27\n"
     ]
    },
    {
     "name": "stderr",
     "output_type": "stream",
     "text": [
      "\n"
     ]
    }
   ],
   "source": [
    "closing = yf.download(\"AAPL\")[\"Close\"]\n",
    "today = closing.index[-1].date()  # Get the most recent closing date\n",
    "\n",
    "# Define start and end dates for different timeframes\n",
    "ten_years_ago = today - pd.Timedelta(days=365 * 10)\n",
    "twenty_years_ago = today - pd.Timedelta(days=365 * 20)\n",
    "\n",
    "print(today, ten_years_ago, twenty_years_ago)"
   ]
  },
  {
   "cell_type": "code",
   "execution_count": 16,
   "metadata": {},
   "outputs": [
    {
     "name": "stderr",
     "output_type": "stream",
     "text": [
      "[*********************100%%**********************]  1 of 1 completed\n",
      "[*********************100%%**********************]  1 of 1 completed\n",
      "[*********************100%%**********************]  1 of 1 completed\n",
      "[*********************100%%**********************]  1 of 1 completed\n",
      "[*********************100%%**********************]  1 of 1 completed\n",
      "[*********************100%%**********************]  1 of 1 completed\n"
     ]
    }
   ],
   "source": [
    "# Download data for each index\n",
    "sp500 = StockIndexAnalyzer.download_data(ticker_symbol=\"^GSPC\", start_date=ten_years_ago, end_date=end_date)\n",
    "nasdaq = StockIndexAnalyzer.download_data(ticker_symbol=\"^IXIC\", start_date=ten_years_ago, end_date=end_date)\n",
    "dow_jones = StockIndexAnalyzer.download_data(ticker_symbol=\"^DJI\", start_date=ten_years_ago, end_date=end_date)\n",
    "\n",
    "# download 20 yrs\n",
    "sp500_20 = StockIndexAnalyzer.download_data(ticker_symbol=\"^GSPC\", start_date=twenty_years_ago, end_date=end_date)\n",
    "nasdaq_20 = StockIndexAnalyzer.download_data(ticker_symbol=\"^IXIC\", start_date=twenty_years_ago, end_date=end_date)\n",
    "dow_jones_20 = StockIndexAnalyzer.download_data(ticker_symbol=\"^DJI\", start_date=twenty_years_ago, end_date=end_date)"
   ]
  },
  {
   "cell_type": "code",
   "execution_count": 17,
   "metadata": {},
   "outputs": [
    {
     "name": "stdout",
     "output_type": "stream",
     "text": [
      "Index Name\t10-Year Growth (%)\t20-Year Growth (%)\tEstimated CAGR (%)\n",
      "S&P 500\t\t179.19\t\t\t357.11\t\t\t16.14\n",
      "Nasdaq\t\t298.82\t\t\t699.69\t\t\t22.33\n",
      "Dow Jones\t137.71\t\t\t271.18\t\t\t13.45\n"
     ]
    }
   ],
   "source": [
    "\n",
    "# Calculate 10-year and 20-year growth rates \n",
    "sp500_growth_10y =  StockIndexAnalyzer.calc_growth_rates(sp500) \n",
    "sp500_growth_20y = StockIndexAnalyzer.calc_growth_rates(sp500_20) \n",
    "\n",
    "nasdaq_growth_10y = StockIndexAnalyzer.calc_growth_rates(nasdaq) \n",
    "nasdaq_growth_20y = StockIndexAnalyzer.calc_growth_rates(nasdaq_20) \n",
    "\n",
    "dow_jones_growth_10y = StockIndexAnalyzer.calc_growth_rates(dow_jones) \n",
    "dow_jones_growth_20y = StockIndexAnalyzer.calc_growth_rates(dow_jones_20) \n",
    "\n",
    "\n",
    "# Estimate CAGR (assuming constant growth for simplicity)\n",
    "sp500_cagr_est = StockIndexAnalyzer.estimate_cagr(sp500)\n",
    "nasdaq_cagr_est = StockIndexAnalyzer.estimate_cagr(nasdaq)\n",
    "dow_jones_cagr_est = StockIndexAnalyzer.estimate_cagr(dow_jones)\n",
    "\n",
    "# Print results\n",
    "print(\"Index Name\\t10-Year Growth (%)\\t20-Year Growth (%)\\tEstimated CAGR (%)\")\n",
    "print(f\"S&P 500\\t\\t{sp500_growth_10y:.2f}\\t\\t\\t{sp500_growth_20y:.2f}\\t\\t\\t{sp500_cagr_est:.2f}\")\n",
    "print(f\"Nasdaq\\t\\t{nasdaq_growth_10y:.2f}\\t\\t\\t{nasdaq_growth_20y:.2f}\\t\\t\\t{nasdaq_cagr_est:.2f}\")\n",
    "print(f\"Dow Jones\\t{dow_jones_growth_10y:.2f}\\t\\t\\t{dow_jones_growth_20y:.2f}\\t\\t\\t{dow_jones_cagr_est:.2f}\")\n"
   ]
  },
  {
   "cell_type": "markdown",
   "metadata": {},
   "source": [
    "Question 4. [Stocks OHLCV] 52-weeks range ratio (2023) for the selected stocks\n",
    "Find the largest range ratio [=(max-min)/max] of Adj.Close prices in 2023\n",
    "\n",
    "Download the 2023 daily OHLCV data on Yahoo Finance for top6 stocks on earnings (https://companiesmarketcap.com/most-profitable-companies/): 2222.SR,BRK-B, AAPL, MSFT, GOOG, JPM.\n",
    "\n",
    "Here is the example data you should see in Pandas for \"2222.SR\": https://finance.yahoo.com/quote/2222.SR/history\n",
    "\n",
    "Calculate maximum-minimim \"Adj.Close\" price for each stock and divide it by the maximum \"Adj.Close\" value. Round the result to two decimal places (e.g. 0.1575 will be 0.16)\n",
    "\n",
    "(Additional: why this may be important for your research?)"
   ]
  },
  {
   "cell_type": "code",
   "execution_count": 37,
   "metadata": {},
   "outputs": [
    {
     "name": "stderr",
     "output_type": "stream",
     "text": [
      "[*********************100%%**********************]  1 of 1 completed"
     ]
    },
    {
     "name": "stderr",
     "output_type": "stream",
     "text": [
      "\n",
      "[*********************100%%**********************]  1 of 1 completed\n",
      "[*********************100%%**********************]  1 of 1 completed\n",
      "[*********************100%%**********************]  1 of 1 completed\n",
      "[*********************100%%**********************]  1 of 1 completed\n",
      "[*********************100%%**********************]  1 of 1 completed"
     ]
    },
    {
     "name": "stdout",
     "output_type": "stream",
     "text": [
      "Ticker: 2222.SR \n",
      "Ticker: BRK-B \n",
      "Ticker: AAPL \n",
      "Ticker: MSFT \n",
      "Ticker: GOOG \n",
      "Ticker: JPM \n",
      "Stock Ticker\t52-Week Range Ratio (2023)\n",
      "2222.SR\t\t0.21\n",
      "BRK-B\t\t0.21\n",
      "AAPL\t\t0.37\n",
      "MSFT\t\t0.42\n",
      "GOOG\t\t0.39\n",
      "JPM\t\t0.28\n"
     ]
    },
    {
     "name": "stderr",
     "output_type": "stream",
     "text": [
      "\n"
     ]
    }
   ],
   "source": [
    "# Top 6 stocks on earnings\n",
    "tickers = [\"2222.SR\", \"BRK-B\", \"AAPL\", \"MSFT\", \"GOOG\", \"JPM\"]\n",
    "\n",
    "start_date=\"2023-01-01\"\n",
    "end_date=\"2023-12-31\"\n",
    "\n",
    "# Analyze each stock's data (assuming data is available)\n",
    "stock_ratios = {}\n",
    "for ticker in tickers:\n",
    "    # data = stock_data[ticker]  # Uncomment if using downloaded data\n",
    "    data = StockIndexAnalyzer.download_data(ticker_symbol=ticker, start_date=start_date, end_date=end_date, interval=\"1d\") \n",
    "    # print(data.info)\n",
    "    ratio = StockIndexAnalyzer.calculate_range_ratio(data)\n",
    "    print(f\"Ticker: {ticker} \")\n",
    "    stock_ratios[ticker] = ratio\n",
    "\n",
    "# Print the results\n",
    "print(\"Stock Ticker\\t52-Week Range Ratio (2023)\")\n",
    "for ticker, ratio in stock_ratios.items():\n",
    "    if ratio is not None:\n",
    "        print(f\"{ticker}\\t\\t{ratio}\")\n",
    "    else:\n",
    "        print(f\"{ticker}\\t\\tData Unavailable\")\n",
    "\n"
   ]
  },
  {
   "cell_type": "markdown",
   "metadata": {},
   "source": [
    "**Why is the 52-week range ratio important?**\n",
    "\n",
    "The 52-week range ratio provides insights into a stock's price volatility within the past year. Here's how it can be valuable:\n",
    "\n",
    "- Volatility Indicator: A high ratio (closer to 1) suggests a larger price swing (more volatile). Conversely, a low ratio indicates a narrower price range (potentially less volatile). This can help assess the stock's risk profile.\n",
    "- Potential Trading Opportunities: Investors might use the range\n",
    "\n",
    "**Volatility:**\n",
    "- **AMD (0.58)**: This has the highest ratio, indicating the largest price swing (most volatile) within the past year (2023) among the listed stocks.\n",
    "- **MSFT (0.42**): This also has a relatively high ratio, suggesting significant price movement in 2023.\n",
    "- **AAPL (0.37), GOOG (0.39), JPM (0.28)**: These stocks have moderate volatility based on their ratios.\n",
    "- **2222.SR & BRK-B (0.21)**: These have the lowest ratios, suggesting a tighter price range and potentially lower volatility in 2023."
   ]
  },
  {
   "cell_type": "code",
   "execution_count": 38,
   "metadata": {},
   "outputs": [
    {
     "data": {
      "image/png": "[encoded data removed]",
      "text/plain": [
       "<Figure size 1000x600 with 1 Axes>"
      ]
     },
     "metadata": {},
     "output_type": "display_data"
    }
   ],
   "source": [
    "# Stock tickers and their corresponding ratios (replace with your actual data)\n",
    "tickers = stock_ratios.keys()\n",
    "ratios = stock_ratios.values()  # Replace with your calculated ratios\n",
    "\n",
    "# Threshold for coloring\n",
    "high = 0.39\n",
    "low = 0.25\n",
    "\n",
    "# Create colors based on thresholds\n",
    "colors = ['lightgreen' if ratio < low else ('yellow' if ratio <= high else 'orange') for ratio in ratios]\n",
    "\n",
    "# Create the bar chart\n",
    "plt.figure(figsize=(10, 6))  # Adjust figure size as needed\n",
    "plt.bar(tickers, ratios, color=colors)\n",
    "plt.xlabel(\"Stock Ticker\")\n",
    "plt.ylabel(\"52-Week Range Ratio (2023)\")\n",
    "plt.title(\"52-Week Range Ratio Comparison (2023)\")\n",
    "plt.xticks(rotation=45, ha=\"right\")  # Rotate x-axis labels for better readability\n",
    "\n",
    "# Add a dotted line for the thresholds high/low\n",
    "plt.axhline(y=high, color='red', linestyle='--', label=f\"High Volatility ({high})\")\n",
    "plt.axhline(y=low, color='green', linestyle='--', label=f\"Low Volatility ({low})\")\n",
    "plt.legend()  # Include legend for the threshold line\n",
    "\n",
    "plt.tight_layout()\n",
    "\n",
    "# Display the chart\n",
    "plt.show()"
   ]
  },
  {
   "cell_type": "markdown",
   "metadata": {},
   "source": [
    "Question 5. [Stocks] Dividend Yield\n",
    "Find the largest dividend yield for the same set of stocks\n",
    "\n",
    "Use the same list of companies (2222.SR,BRK-B, AAPL, MSFT, GOOG, JPM) and download all dividends paid in 2023. You can use get_actions() method or .dividends field in yfinance library (https://github.com/ranaroussi/yfinance?tab=readme-ov-file#quick-start)\n",
    "\n",
    "Sum up all dividends paid in 2023 per company and divide each value by the closing price (Adj.Close) at the last trading day of the year.\n",
    "\n",
    "Find the maximm value in % and round to 1 digit after the decimal point. (E.g., if you obtained $1.25 dividends paid and the end year stock price is $100, the dividend yield is 1.25% -- and your answer should be equal to 1.3)"
   ]
  },
  {
   "cell_type": "code",
   "execution_count": 98,
   "metadata": {},
   "outputs": [
    {
     "name": "stderr",
     "output_type": "stream",
     "text": [
      "[*********************100%%**********************]  1 of 1 completed"
     ]
    },
    {
     "name": "stderr",
     "output_type": "stream",
     "text": [
      "\n",
      "[*********************100%%**********************]  1 of 1 completed\n",
      "[*********************100%%**********************]  1 of 1 completed\n",
      "[*********************100%%**********************]  1 of 1 completed\n",
      "[*********************100%%**********************]  1 of 1 completed\n",
      "[*********************100%%**********************]  1 of 1 completed"
     ]
    },
    {
     "name": "stdout",
     "output_type": "stream",
     "text": [
      "2222.SR dividend 2.8\n",
      "BRK-B dividend 0.0\n",
      "AAPL dividend 0.5\n",
      "MSFT dividend 0.7\n",
      "GOOG dividend 0.0\n",
      "JPM dividend 2.4\n",
      "Stock with Highest Dividend Yield (2023): 2222.SR - 2.8%\n"
     ]
    },
    {
     "name": "stderr",
     "output_type": "stream",
     "text": [
      "\n"
     ]
    }
   ],
   "source": [
    "# Calculate dividend yield for each stock\n",
    "dividend_yields = {}\n",
    "for ticker in tickers:\n",
    "    yield_value = StockIndexAnalyzer.calculate_dividend_yield(ticker, start_date, end_date)\n",
    "    print(f\"{ticker} dividend {yield_value}\")\n",
    "    dividend_yields[ticker] = yield_value\n",
    "\n",
    "# Find the stock with the maximum dividend yield\n",
    "max_yield_ticker = None\n",
    "max_yield = 0\n",
    "for ticker, yield_value in dividend_yields.items():\n",
    "    if yield_value is not None and yield_value > max_yield:\n",
    "        max_yield = yield_value\n",
    "        max_yield_ticker = ticker\n",
    "\n",
    "# Print the results\n",
    "if max_yield_ticker:\n",
    "    print(f\"Stock with Highest Dividend Yield (2023): {max_yield_ticker} - {max_yield:.1f}%\")\n",
    "else:\n",
    "    print(\"Dividend yield data unavailable for all stocks.\")\n"
   ]
  },
  {
   "cell_type": "markdown",
   "metadata": {},
   "source": [
    "Question 6. [Exploratory] Investigate new metrics\n",
    "Free text answer\n",
    "\n",
    "Download and explore a few additional metrics or time series that might be valuable for your project and write down why (briefly).\n",
    "\n",
    "> **Earnings Per Share (EPS):** This metric shows a company's profit attributable to each common share outstanding. It helps assess a company's profitability and its ability to maintain dividend payments in the future.\n"
   ]
  },
  {
   "cell_type": "code",
   "execution_count": 97,
   "metadata": {},
   "outputs": [
    {
     "name": "stdout",
     "output_type": "stream",
     "text": [
      " 2222.SR 2.47\n",
      " BRK-B -10.329338\n",
      " AAPL 6.15\n",
      " MSFT 9.7\n",
      " GOOG 4.59\n",
      " JPM 12.1\n"
     ]
    }
   ],
   "source": [
    "# Calculate average EPS for each stock\n",
    "eps_values = {}\n",
    "for ticker in tickers:\n",
    "    data =  yf.Ticker(ticker)\n",
    "    eps = data.financials.loc[\"Basic EPS\",data.financials.columns[1]]    \n",
    "    print(f\" {ticker} {eps}\")\n",
    "    # eps_values[ticker] = eps\n"
   ]
  },
  {
   "cell_type": "markdown",
   "metadata": {},
   "source": [
    "Question 7. [Exploratory] Time-driven strategy description around earnings releases\n",
    "Free text answer\n",
    "\n",
    "Explore earning dates for the whole month of April - e.g. using YahooFinance earnings calendar (https://finance.yahoo.com/calendar/earnings?from=2024-04-21&to=2024-04-27&day=2024-04-23). Compare with the previous closed earnings (e.g., recent dates with full data https://finance.yahoo.com/calendar/earnings?from=2024-04-07&to=2024-04-13&day=2024-04-08).\n",
    "\n",
    "Describe an analytical strategy/idea (you're not required to implement it) to select a subset companies of interest based on the future events data."
   ]
  },
  {
   "cell_type": "markdown",
   "metadata": {},
   "source": [
    "My strategy is focused on established companies with stable performance and dividends. 2222.SR seems to provide the better dividend yield, has low volatility and an EPS of .45"
   ]
  },
  {
   "cell_type": "code",
   "execution_count": 100,
   "metadata": {},
   "outputs": [
    {
     "name": "stdout",
     "output_type": "stream",
     "text": [
      "Future Earnings (April):\n",
      "   Ticker                            Company  \\\n",
      "0    INLB                   Item 9 Labs Corp   \n",
      "1    INLB                   Item 9 Labs Corp   \n",
      "2    ABIO                 ARCA Biopharma Inc   \n",
      "3    AMNF  Armanino Foods Of Distinction Inc   \n",
      "4   ATCMF                  Atico Mining Corp   \n",
      "..    ...                                ...   \n",
      "95  BBRRF           Blueberries Medical Corp   \n",
      "96   BSRR                     Sierra Bancorp   \n",
      "97   IBTX         Independent Bank Group Inc   \n",
      "98  BIOCQ                        Biocept Inc   \n",
      "99   TRST              TrustCo Bank Corp N Y   \n",
      "\n",
      "                                    Earnings Date  \n",
      "0                       Q4 2023  Earnings Release  \n",
      "1                       Q1 2024  Earnings Release  \n",
      "2                       Q1 2024  Earnings Release  \n",
      "3                       Q1 2024  Earnings Release  \n",
      "4                       Q1 2024  Earnings Release  \n",
      "..                                            ...  \n",
      "95                      Q4 2023  Earnings Release  \n",
      "96                      Q1 2024  Earnings Release  \n",
      "97                      Q1 2024  Earnings Release  \n",
      "98                      Q3 2023  Earnings Release  \n",
      "99  Q1 2024 TrustCo Bank Corp NY Earnings Release  \n",
      "\n",
      "[100 rows x 3 columns]\n",
      "Past Earnings (April):\n",
      "   Ticker                            Company  \\\n",
      "0    INLB                   Item 9 Labs Corp   \n",
      "1    INLB                   Item 9 Labs Corp   \n",
      "2    ABIO                 ARCA Biopharma Inc   \n",
      "3    AMNF  Armanino Foods Of Distinction Inc   \n",
      "4   ATCMF                  Atico Mining Corp   \n",
      "..    ...                                ...   \n",
      "95  BBRRF           Blueberries Medical Corp   \n",
      "96   BSRR                     Sierra Bancorp   \n",
      "97   IBTX         Independent Bank Group Inc   \n",
      "98  BIOCQ                        Biocept Inc   \n",
      "99   TRST              TrustCo Bank Corp N Y   \n",
      "\n",
      "                                    Earnings Date  \n",
      "0                       Q4 2023  Earnings Release  \n",
      "1                       Q1 2024  Earnings Release  \n",
      "2                       Q1 2024  Earnings Release  \n",
      "3                       Q1 2024  Earnings Release  \n",
      "4                       Q1 2024  Earnings Release  \n",
      "..                                            ...  \n",
      "95                      Q4 2023  Earnings Release  \n",
      "96                      Q1 2024  Earnings Release  \n",
      "97                      Q1 2024  Earnings Release  \n",
      "98                      Q3 2023  Earnings Release  \n",
      "99  Q1 2024 TrustCo Bank Corp NY Earnings Release  \n",
      "\n",
      "[100 rows x 3 columns]\n"
     ]
    }
   ],
   "source": [
    "import requests\n",
    "from bs4 import BeautifulSoup\n",
    "\n",
    "# Define URL formats for future and past earnings\n",
    "future_url_format = \"https://finance.yahoo.com/calendar/earnings?from={start_date}&to={end_date}&day={day}\"\n",
    "past_url_format = \"https://finance.yahoo.com/calendar/earnings?from={start_date}&to={end_date}&day={day}\"\n",
    "\n",
    "# Define timeframes for April (adjust as needed)\n",
    "future_start_date = \"2024-04-01\"\n",
    "future_end_date = \"2024-04-30\"\n",
    "past_start_date = \"2024-04-01\"\n",
    "past_end_date = \"2024-04-20\"\n",
    "\n",
    "# Function to scrape earnings data from a URL\n",
    "def scrape_earnings_data(url):\n",
    "  response = requests.get(url)\n",
    "  soup = BeautifulSoup(response.content, \"html.parser\")\n",
    "\n",
    "  # Find the download link within the webpage\n",
    "  download_link = soup.find(\"a\", {\"rel\": \"nofollow\", \"href\": \"?download=csv\"})\n",
    "\n",
    "  # Extract relevant data from the table (adjust selectors as needed)\n",
    "  table = soup.find(\"table\", class_=\"W(100%)\") \n",
    "  if table:\n",
    "    rows = table.find_all(\"tr\", class_=\"simpTblRow\")\n",
    "    data = []\n",
    "    for row in rows:\n",
    "      cells = row.find_all(\"td\")\n",
    "      if cells:\n",
    "        ticker = cells[0].text.strip()\n",
    "        company_name = cells[1].text.strip()\n",
    "        earnings_date = cells[2].text.strip()\n",
    "        # Add analyst estimates or other data if available from cells\n",
    "        data.append({\"Ticker\": ticker, \"Company\": company_name, \"Earnings Date\": earnings_date})\n",
    "    return pd.DataFrame(data)\n",
    "  else:\n",
    "    print(f\"Error: Table not found in URL: {url}\")\n",
    "    return None\n",
    "\n",
    "# Scrape future and past earnings data\n",
    "future_data = scrape_earnings_data(future_url_format.format(start_date=future_start_date, end_date=future_end_date, day=\"any\"))\n",
    "past_data = scrape_earnings_data(past_url_format.format(start_date=past_start_date, end_date=past_end_date, day=\"any\"))\n",
    "\n",
    "# Print or analyze the dataframes\n",
    "if future_data is not None:\n",
    "  print(\"Future Earnings (April):\")\n",
    "  print(future_data)\n",
    "\n",
    "if past_data is not None:\n",
    "  print(\"Past Earnings (April):\")\n",
    "  print(past_data)\n",
    "\n",
    "# Further analysis can be done by comparing dataframes or applying selection criteria\n",
    "# as described in the previous response.\n"
   ]
  }
 ],
 "metadata": {
  "kernelspec": {
   "display_name": "Python 3",
   "language": "python",
   "name": "python3"
  },
  "language_info": {
   "codemirror_mode": {
    "name": "ipython",
    "version": 3
   },
   "file_extension": ".py",
   "mimetype": "text/x-python",
   "name": "python",
   "nbconvert_exporter": "python",
   "pygments_lexer": "ipython3",
   "version": "3.8.10"
  }
 },
 "nbformat": 4,
 "nbformat_minor": 2
}
