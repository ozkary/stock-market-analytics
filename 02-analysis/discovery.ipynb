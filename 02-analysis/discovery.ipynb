{
 "cells": [
  {
   "cell_type": "markdown",
   "metadata": {},
   "source": [
    "# \n",
    "\n",
    "## Install dependencies\n",
    "\n",
    "```bash\n",
    "pip install -r ./requirements.txt\n",
    "```"
   ]
  },
  {
   "cell_type": "code",
   "execution_count": 2,
   "metadata": {},
   "outputs": [],
   "source": [
    "# IMPORTS\n",
    "import numpy as np\n",
    "import pandas as pd\n",
    "\n",
    "import time\n",
    "from datetime import date\n",
    "\n",
    "import requests\n",
    "\n",
    "#Data visualization\n",
    "import plotly.graph_objs as go\n",
    "import plotly.express as px\n",
    "\n",
    "# for graphs\n",
    "import matplotlib.pyplot as plt\n",
    "\n",
    "#Finance Data Sources\n",
    "import yfinance as yf\n",
    "import pandas_datareader as pdr\n"
   ]
  },
  {
   "cell_type": "markdown",
   "metadata": {},
   "source": [
    "## Get IPO Information"
   ]
  },
  {
   "cell_type": "code",
   "execution_count": 8,
   "metadata": {},
   "outputs": [],
   "source": [
    "def get_ipo_data(year):\n",
    "\n",
    "    headers = {\n",
    "        'User-Agent': 'Mozilla/5.0 (Windows NT 10.0; Win64; x64) AppleWebKit/537.36 (KHTML, like Gecko) Chrome/58.0.3029.110 Safari/537.3',\n",
    "    }\n",
    "    \n",
    "    url = f\"https://stockanalysis.com/ipos/{year}/\"\n",
    "    \n",
    "    response = requests.get(url, headers=headers)\n",
    "    ipo_dfs = pd.read_html(response.text)\n",
    "    df_ipo = ipo_dfs[0]\n",
    "    # print(df_ipo.info())\n",
    "    # df_ipo.head()\n",
    "    \n",
    "    return df_ipo"
   ]
  },
  {
   "cell_type": "code",
   "execution_count": 9,
   "metadata": {},
   "outputs": [
    {
     "name": "stdout",
     "output_type": "stream",
     "text": [
      "<class 'pandas.core.frame.DataFrame'>\n",
      "RangeIndex: 217 entries, 0 to 216\n",
      "Data columns (total 6 columns):\n",
      " #   Column        Non-Null Count  Dtype         \n",
      "---  ------        --------------  -----         \n",
      " 0   IPO Date      217 non-null    datetime64[ns]\n",
      " 1   Symbol        217 non-null    object        \n",
      " 2   Company Name  217 non-null    object        \n",
      " 3   IPO Price     217 non-null    float64       \n",
      " 4   Current       217 non-null    float64       \n",
      " 5   Return        216 non-null    float64       \n",
      "dtypes: datetime64[ns](1), float64(3), object(2)\n",
      "memory usage: 10.3+ KB\n"
     ]
    },
    {
     "name": "stderr",
     "output_type": "stream",
     "text": [
      "/tmp/ipykernel_19856/781725639.py:11: FutureWarning: The default value of regex will change from True to False in a future version. In addition, single character regular expressions will *not* be treated as literal strings when regex=True.\n",
      "  ipos_df['IPO Price'] = pd.to_numeric(ipos_df['IPO Price'].str.replace('$', ''), errors='coerce')\n",
      "/tmp/ipykernel_19856/781725639.py:14: FutureWarning: The default value of regex will change from True to False in a future version. In addition, single character regular expressions will *not* be treated as literal strings when regex=True.\n",
      "  ipos_df['Current'] = pd.to_numeric(ipos_df['Current'].str.replace('$', ''), errors='coerce')\n"
     ]
    }
   ],
   "source": [
    "ipo_2023 = get_ipo_data(2023)\n",
    "ipo_2024 = get_ipo_data(2024)\n",
    "\n",
    "# stack the data frames and reset the index\n",
    "ipos_df = pd.concat([ipo_2023, ipo_2024], ignore_index=True)\n",
    "\n",
    "# convert to datetime\n",
    "ipos_df['IPO Date'] = pd.to_datetime(ipos_df['IPO Date'])\n",
    "\n",
    "# Convert to numeric\n",
    "ipos_df['IPO Price'] = pd.to_numeric(ipos_df['IPO Price'].str.replace('$', ''), errors='coerce')\n",
    "\n",
    "# Convert \"Current\" column\n",
    "ipos_df['Current'] = pd.to_numeric(ipos_df['Current'].str.replace('$', ''), errors='coerce')\n",
    "\n",
    "# Convert 'Return' to numeric format (percentage)\n",
    "ipos_df['Return'] = pd.to_numeric(ipos_df['Return'].str.replace('%', ''), errors='coerce') / 100\n",
    "     \n",
    "ipos_df.info()"
   ]
  },
  {
   "cell_type": "code",
   "execution_count": 10,
   "metadata": {},
   "outputs": [
    {
     "data": {
      "text/plain": [
       "IPO Date        0\n",
       "Symbol          0\n",
       "Company Name    0\n",
       "IPO Price       0\n",
       "Current         0\n",
       "Return          1\n",
       "dtype: int64"
      ]
     },
     "execution_count": 10,
     "metadata": {},
     "output_type": "execute_result"
    }
   ],
   "source": [
    "# check null values\n",
    "ipos_df.isnull().sum()"
   ]
  }
 ],
 "metadata": {
  "kernelspec": {
   "display_name": "Python 3",
   "language": "python",
   "name": "python3"
  },
  "language_info": {
   "codemirror_mode": {
    "name": "ipython",
    "version": 3
   },
   "file_extension": ".py",
   "mimetype": "text/x-python",
   "name": "python",
   "nbconvert_exporter": "python",
   "pygments_lexer": "ipython3",
   "version": "3.8.10"
  }
 },
 "nbformat": 4,
 "nbformat_minor": 2
}
